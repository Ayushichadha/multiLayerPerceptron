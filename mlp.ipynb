{
  "nbformat": 4,
  "nbformat_minor": 0,
  "metadata": {
    "colab": {
      "provenance": [],
      "authorship_tag": "ABX9TyO62ZPVAvNUvqzYH7yyA0wE",
      "include_colab_link": true
    },
    "kernelspec": {
      "name": "python3",
      "display_name": "Python 3"
    },
    "language_info": {
      "name": "python"
    }
  },
  "cells": [
    {
      "cell_type": "markdown",
      "metadata": {
        "id": "view-in-github",
        "colab_type": "text"
      },
      "source": [
        "<a href=\"https://colab.research.google.com/github/Ayushichadha/multiLayerPerceptron/blob/main/mlp.ipynb\" target=\"_parent\"><img src=\"https://colab.research.google.com/assets/colab-badge.svg\" alt=\"Open In Colab\"/></a>"
      ]
    },
    {
      "cell_type": "markdown",
      "source": [
        "We implement a multilayer perceptron (MLP) character-level language model and work on many basics of machine learning (e.g. model training, learning rate tuning, hyperparameters, evaluation, train/dev/test splits, under/overfitting, etc.)."
      ],
      "metadata": {
        "id": "o14JVoaWd6Gg"
      }
    },
    {
      "cell_type": "code",
      "source": [
        "# Bengio et al. 2003 (MLP language model) paper\n",
        "# implementing the embedding lookup table\n",
        "# implementing the hidden layer + internals of torch.Tensor: storage, views\n",
        "# implementing the output layer\n",
        "# implementing the negative log likelihood loss\n",
        "# introducing F.cross_entropy\n",
        "# implementing the training loop, overfitting one batch\n",
        "# training on the full dataset, minibatches\n",
        "# finding a good initial learning rate\n",
        "# splitting up the dataset into train/val/test splits and why\n",
        "# experiment: larger hidden layer\n",
        "# visualizing the character embeddings\n",
        "# experiment: larger embedding size\n",
        "# sampling from the model"
      ],
      "metadata": {
        "id": "m5drJQNvFKsw"
      },
      "execution_count": null,
      "outputs": []
    },
    {
      "cell_type": "code",
      "source": [
        "import torch\n",
        "import torch.nn.functional as F\n",
        "import matplotlib.pyplot as plt\n",
        "%matplotlib inline"
      ],
      "metadata": {
        "id": "edkZ9sCleOYW"
      },
      "execution_count": null,
      "outputs": []
    },
    {
      "cell_type": "code",
      "source": [
        "# download the names.txt file from github\n",
        "!wget https://raw.githubusercontent.com/karpathy/makemore/master/names.txt"
      ],
      "metadata": {
        "id": "m4bojcbKeD-K",
        "colab": {
          "base_uri": "https://localhost:8080/"
        },
        "outputId": "4b49dc88-8b92-4039-dc1c-6ec619e98d61"
      },
      "execution_count": null,
      "outputs": [
        {
          "output_type": "stream",
          "name": "stdout",
          "text": [
            "--2025-08-01 17:05:30--  https://raw.githubusercontent.com/karpathy/makemore/master/names.txt\n",
            "Resolving raw.githubusercontent.com (raw.githubusercontent.com)... 185.199.108.133, 185.199.109.133, 185.199.110.133, ...\n",
            "Connecting to raw.githubusercontent.com (raw.githubusercontent.com)|185.199.108.133|:443... connected.\n",
            "HTTP request sent, awaiting response... 200 OK\n",
            "Length: 228145 (223K) [text/plain]\n",
            "Saving to: ‘names.txt’\n",
            "\n",
            "names.txt           100%[===================>] 222.80K  --.-KB/s    in 0.03s   \n",
            "\n",
            "2025-08-01 17:05:30 (8.58 MB/s) - ‘names.txt’ saved [228145/228145]\n",
            "\n"
          ]
        }
      ]
    },
    {
      "cell_type": "code",
      "source": [
        "words = open('names.txt', 'r').read().splitlines()\n",
        "words[:5]"
      ],
      "metadata": {
        "colab": {
          "base_uri": "https://localhost:8080/"
        },
        "id": "LNG1iomKSgti",
        "outputId": "9fe039c8-a8bd-48df-8ee5-33aedd9a1f13"
      },
      "execution_count": null,
      "outputs": [
        {
          "output_type": "execute_result",
          "data": {
            "text/plain": [
              "['emma', 'olivia', 'ava', 'isabella', 'sophia']"
            ]
          },
          "metadata": {},
          "execution_count": 4
        }
      ]
    },
    {
      "cell_type": "code",
      "source": [
        "len(words)"
      ],
      "metadata": {
        "colab": {
          "base_uri": "https://localhost:8080/"
        },
        "id": "5uGdar0JSpWu",
        "outputId": "9014d534-d683-49f0-8d30-f66747b968ef"
      },
      "execution_count": null,
      "outputs": [
        {
          "output_type": "execute_result",
          "data": {
            "text/plain": [
              "32033"
            ]
          },
          "metadata": {},
          "execution_count": 5
        }
      ]
    },
    {
      "cell_type": "code",
      "source": [
        "# build vocabulary of characters and mappings to/from integers\n",
        "chars = sorted(list(set(''.join(words))))\n",
        "stoi = {s: i+1 for i,s in enumerate(chars)}\n",
        "stoi['.'] = 0\n",
        "itos = {i:s for s, i in stoi.items()}\n",
        "print(itos)"
      ],
      "metadata": {
        "colab": {
          "base_uri": "https://localhost:8080/"
        },
        "id": "nq3TY2xMStvs",
        "outputId": "ac474e91-deed-4087-b69a-89c86a253fcd"
      },
      "execution_count": null,
      "outputs": [
        {
          "output_type": "stream",
          "name": "stdout",
          "text": [
            "{1: 'a', 2: 'b', 3: 'c', 4: 'd', 5: 'e', 6: 'f', 7: 'g', 8: 'h', 9: 'i', 10: 'j', 11: 'k', 12: 'l', 13: 'm', 14: 'n', 15: 'o', 16: 'p', 17: 'q', 18: 'r', 19: 's', 20: 't', 21: 'u', 22: 'v', 23: 'w', 24: 'x', 25: 'y', 26: 'z', 0: '.'}\n"
          ]
        }
      ]
    },
    {
      "cell_type": "code",
      "source": [
        "# build the dataset\n",
        "block_size = 3 # context length: how many characters do we take to predict the next one?\n",
        "\n",
        "def build_dataset(words):\n",
        "  X, Y = [], []\n",
        "  for w in words:\n",
        "\n",
        "    #print(w)\n",
        "    context = [0] * block_size\n",
        "    for ch in w + '.':\n",
        "      ix = stoi[ch]\n",
        "      X.append(context)\n",
        "      Y.append(ix)\n",
        "      #print(''.join(itos[i] for i in context), '--->', itos[ix])\n",
        "      context = context[1:] + [ix] # crop and append\n",
        "\n",
        "  X = torch.tensor(X)\n",
        "  Y = torch.tensor(Y)\n",
        "  print(X.shape, Y.shape)\n",
        "  return X, Y\n",
        "\n",
        "import random\n",
        "random.seed(42)\n",
        "random.shuffle(words)\n",
        "n1 = int(0.8*len(words))\n",
        "n2 = int(0.9*len(words))\n",
        "\n",
        "Xtr, Ytr = build_dataset(words[:n1])\n",
        "Xdev, Ydev = build_dataset(words[n1:n2])\n",
        "Xte, Yte = build_dataset(words[n2:])"
      ],
      "metadata": {
        "id": "n6iS3uYDXTUo",
        "colab": {
          "base_uri": "https://localhost:8080/"
        },
        "outputId": "6f2aa052-466a-416d-8ab5-628bd70533d1"
      },
      "execution_count": null,
      "outputs": [
        {
          "output_type": "stream",
          "name": "stdout",
          "text": [
            "torch.Size([182580, 3]) torch.Size([182580])\n",
            "torch.Size([22767, 3]) torch.Size([22767])\n",
            "torch.Size([22799, 3]) torch.Size([22799])\n"
          ]
        }
      ]
    },
    {
      "cell_type": "markdown",
      "source": [
        "**Writing neural network**"
      ],
      "metadata": {
        "id": "Jpmd_cFneKwv"
      }
    },
    {
      "cell_type": "markdown",
      "source": [
        "implementing embedding lookup table"
      ],
      "metadata": {
        "id": "o9zU8SWruFy3"
      }
    },
    {
      "cell_type": "code",
      "source": [
        "C = torch.randn((27, 2))"
      ],
      "metadata": {
        "id": "EpmSLfFcWm91"
      },
      "execution_count": null,
      "outputs": []
    },
    {
      "cell_type": "code",
      "source": [
        "C[5]"
      ],
      "metadata": {
        "colab": {
          "base_uri": "https://localhost:8080/"
        },
        "id": "1rxPNdqhWm7P",
        "outputId": "513c9413-3aba-450a-a823-9dcbff6d64c8"
      },
      "execution_count": null,
      "outputs": [
        {
          "output_type": "execute_result",
          "data": {
            "text/plain": [
              "tensor([-0.1749, -0.2777])"
            ]
          },
          "metadata": {},
          "execution_count": 10
        }
      ]
    },
    {
      "cell_type": "markdown",
      "source": [
        "Pytorch Indexing"
      ],
      "metadata": {
        "id": "nl4Njoc1qsZt"
      }
    },
    {
      "cell_type": "code",
      "source": [
        "#indexing with a list\n",
        "C[[5,6,7]]"
      ],
      "metadata": {
        "id": "vjRDyzHUWm2J",
        "colab": {
          "base_uri": "https://localhost:8080/"
        },
        "outputId": "559a1800-96cc-49d3-9f57-b509a00f7d65"
      },
      "execution_count": null,
      "outputs": [
        {
          "output_type": "execute_result",
          "data": {
            "text/plain": [
              "tensor([[-0.1749, -0.2777],\n",
              "        [-1.8644,  2.0524],\n",
              "        [-0.7870, -0.7060]])"
            ]
          },
          "metadata": {},
          "execution_count": 11
        }
      ]
    },
    {
      "cell_type": "code",
      "source": [
        "#indexing with tensor\n",
        "C[torch.tensor([5,6,7])]"
      ],
      "metadata": {
        "id": "0BvTIt2jWmuT",
        "colab": {
          "base_uri": "https://localhost:8080/"
        },
        "outputId": "0fece8d6-b9ca-48aa-8d12-93675d16e8a2"
      },
      "execution_count": null,
      "outputs": [
        {
          "output_type": "execute_result",
          "data": {
            "text/plain": [
              "tensor([[-0.1749, -0.2777],\n",
              "        [-1.8644,  2.0524],\n",
              "        [-0.7870, -0.7060]])"
            ]
          },
          "metadata": {},
          "execution_count": 12
        }
      ]
    },
    {
      "cell_type": "code",
      "source": [
        "#multidimensional indexing --> X:[32,3], C:[27,2]\n",
        "# C[X] --> [32,3,2] where [32,3] is the original shape and 2 is dimension of embeddings.\n",
        "C[X].shape"
      ],
      "metadata": {
        "colab": {
          "base_uri": "https://localhost:8080/"
        },
        "collapsed": true,
        "id": "hotDU07xrDf_",
        "outputId": "93dca3ec-de50-4b51-e257-c8fc7d041f21"
      },
      "execution_count": null,
      "outputs": [
        {
          "output_type": "execute_result",
          "data": {
            "text/plain": [
              "torch.Size([228146, 3, 2])"
            ]
          },
          "metadata": {},
          "execution_count": 13
        }
      ]
    },
    {
      "cell_type": "code",
      "source": [
        "C[X]"
      ],
      "metadata": {
        "collapsed": true,
        "colab": {
          "base_uri": "https://localhost:8080/"
        },
        "id": "HkUzts-ttjU2",
        "outputId": "5ebb5a1b-86b3-4749-8036-53148f8a50da"
      },
      "execution_count": null,
      "outputs": [
        {
          "output_type": "execute_result",
          "data": {
            "text/plain": [
              "tensor([[[-0.6907,  0.3771],\n",
              "         [-0.6907,  0.3771],\n",
              "         [-0.6907,  0.3771]],\n",
              "\n",
              "        [[-0.6907,  0.3771],\n",
              "         [-0.6907,  0.3771],\n",
              "         [-0.1749, -0.2777]],\n",
              "\n",
              "        [[-0.6907,  0.3771],\n",
              "         [-0.1749, -0.2777],\n",
              "         [-0.3704, -0.4016]],\n",
              "\n",
              "        ...,\n",
              "\n",
              "        [[ 0.5591,  0.0443],\n",
              "         [ 0.5591,  0.0443],\n",
              "         [-1.5278,  1.2984]],\n",
              "\n",
              "        [[ 0.5591,  0.0443],\n",
              "         [-1.5278,  1.2984],\n",
              "         [ 0.5591,  0.0443]],\n",
              "\n",
              "        [[-1.5278,  1.2984],\n",
              "         [ 0.5591,  0.0443],\n",
              "         [-1.5812, -0.2508]]])"
            ]
          },
          "metadata": {},
          "execution_count": 14
        }
      ]
    },
    {
      "cell_type": "code",
      "source": [
        "X[13,2]"
      ],
      "metadata": {
        "colab": {
          "base_uri": "https://localhost:8080/"
        },
        "id": "tEuFZFHMs2aM",
        "outputId": "a9eaa9cb-c323-485b-949e-86c7f048b78c"
      },
      "execution_count": null,
      "outputs": [
        {
          "output_type": "execute_result",
          "data": {
            "text/plain": [
              "tensor(1)"
            ]
          },
          "metadata": {},
          "execution_count": 15
        }
      ]
    },
    {
      "cell_type": "code",
      "source": [
        "C[X][13,2]  #gives the embedding vector of element at [13,2] in X i.e. of 1."
      ],
      "metadata": {
        "colab": {
          "base_uri": "https://localhost:8080/"
        },
        "id": "iuNueBoTtexZ",
        "outputId": "2acdaa94-4a49-47f3-ecd5-7b4c1d35dada"
      },
      "execution_count": null,
      "outputs": [
        {
          "output_type": "execute_result",
          "data": {
            "text/plain": [
              "tensor([-0.4361,  0.1240])"
            ]
          },
          "metadata": {},
          "execution_count": 16
        }
      ]
    },
    {
      "cell_type": "code",
      "source": [
        "C[1]"
      ],
      "metadata": {
        "colab": {
          "base_uri": "https://localhost:8080/"
        },
        "id": "urq3p2Jptpbt",
        "outputId": "da647bec-52fb-4822-8de0-3fe8c2ca1954"
      },
      "execution_count": null,
      "outputs": [
        {
          "output_type": "execute_result",
          "data": {
            "text/plain": [
              "tensor([-0.4361,  0.1240])"
            ]
          },
          "metadata": {},
          "execution_count": 17
        }
      ]
    },
    {
      "cell_type": "code",
      "source": [
        "emb = C[X]\n",
        "emb.shape"
      ],
      "metadata": {
        "colab": {
          "base_uri": "https://localhost:8080/"
        },
        "id": "5ndmuxvKx-mn",
        "outputId": "cb568e3d-d63f-4bf8-f35b-fa60ca9227b6"
      },
      "execution_count": null,
      "outputs": [
        {
          "output_type": "execute_result",
          "data": {
            "text/plain": [
              "torch.Size([228146, 3, 2])"
            ]
          },
          "metadata": {},
          "execution_count": 18
        }
      ]
    },
    {
      "cell_type": "markdown",
      "source": [
        "implementing hidden layer"
      ],
      "metadata": {
        "id": "WuHUFNO9uOAF"
      }
    },
    {
      "cell_type": "code",
      "source": [
        "w1 = torch.randn([6, 100]) #input to the layer: 3X2 = 6 -> 3 input chars and 2 dim embedding each char.\n",
        "b1 = torch.rand(100)"
      ],
      "metadata": {
        "id": "0PHl8BY-t5sX"
      },
      "execution_count": null,
      "outputs": []
    },
    {
      "cell_type": "code",
      "source": [
        "# want: emb @ w1 + b1\n",
        "# [32,3,2] @ [6,100]\n",
        "torch.cat([emb[:,0,:], emb[:,1,:], emb[:,2,:]], 1).shape"
      ],
      "metadata": {
        "colab": {
          "base_uri": "https://localhost:8080/"
        },
        "id": "mRhWFGWrxl2s",
        "outputId": "9c928448-da46-4df2-9179-fdabb350bdc3"
      },
      "execution_count": null,
      "outputs": [
        {
          "output_type": "execute_result",
          "data": {
            "text/plain": [
              "torch.Size([228146, 6])"
            ]
          },
          "metadata": {},
          "execution_count": 20
        }
      ]
    },
    {
      "cell_type": "code",
      "source": [
        "emb[:,0,:].shape"
      ],
      "metadata": {
        "colab": {
          "base_uri": "https://localhost:8080/"
        },
        "id": "9WXoWQ8M6n_h",
        "outputId": "e84599ea-c362-463f-a728-f44ffacda3c5"
      },
      "execution_count": null,
      "outputs": [
        {
          "output_type": "execute_result",
          "data": {
            "text/plain": [
              "torch.Size([228146, 2])"
            ]
          },
          "metadata": {},
          "execution_count": 21
        }
      ]
    },
    {
      "cell_type": "code",
      "source": [
        "torch.cat([emb[:,0,:], emb[:,1,:], emb[:,2,:]], 1)"
      ],
      "metadata": {
        "colab": {
          "base_uri": "https://localhost:8080/"
        },
        "id": "dYw5gaMm5_sQ",
        "outputId": "77f0903c-aab8-46a6-9db3-72baba47d4ac",
        "collapsed": true
      },
      "execution_count": null,
      "outputs": [
        {
          "output_type": "execute_result",
          "data": {
            "text/plain": [
              "tensor([[-0.6907,  0.3771, -0.6907,  0.3771, -0.6907,  0.3771],\n",
              "        [-0.6907,  0.3771, -0.6907,  0.3771, -0.1749, -0.2777],\n",
              "        [-0.6907,  0.3771, -0.1749, -0.2777, -0.3704, -0.4016],\n",
              "        ...,\n",
              "        [ 0.5591,  0.0443,  0.5591,  0.0443, -1.5278,  1.2984],\n",
              "        [ 0.5591,  0.0443, -1.5278,  1.2984,  0.5591,  0.0443],\n",
              "        [-1.5278,  1.2984,  0.5591,  0.0443, -1.5812, -0.2508]])"
            ]
          },
          "metadata": {},
          "execution_count": 22
        }
      ]
    },
    {
      "cell_type": "code",
      "source": [
        "torch.cat(torch.unbind(emb, 1),1).shape"
      ],
      "metadata": {
        "colab": {
          "base_uri": "https://localhost:8080/"
        },
        "collapsed": true,
        "id": "_KwL0tgb6j3h",
        "outputId": "8e971981-9e7c-4cdc-bf4d-b6d747c74341"
      },
      "execution_count": null,
      "outputs": [
        {
          "output_type": "execute_result",
          "data": {
            "text/plain": [
              "torch.Size([228146, 6])"
            ]
          },
          "metadata": {},
          "execution_count": 23
        }
      ]
    },
    {
      "cell_type": "code",
      "source": [
        "a = torch.arange(18)"
      ],
      "metadata": {
        "id": "55nBmI2194CA"
      },
      "execution_count": null,
      "outputs": []
    },
    {
      "cell_type": "code",
      "source": [
        "a.view(3,3,2)"
      ],
      "metadata": {
        "colab": {
          "base_uri": "https://localhost:8080/"
        },
        "id": "AlmsB0xfQq63",
        "outputId": "aa49b312-1348-4f71-ccf4-b54d447678df"
      },
      "execution_count": null,
      "outputs": [
        {
          "output_type": "execute_result",
          "data": {
            "text/plain": [
              "tensor([[[ 0,  1],\n",
              "         [ 2,  3],\n",
              "         [ 4,  5]],\n",
              "\n",
              "        [[ 6,  7],\n",
              "         [ 8,  9],\n",
              "         [10, 11]],\n",
              "\n",
              "        [[12, 13],\n",
              "         [14, 15],\n",
              "         [16, 17]]])"
            ]
          },
          "metadata": {},
          "execution_count": 25
        }
      ]
    },
    {
      "cell_type": "code",
      "source": [
        "a.view(2,9)"
      ],
      "metadata": {
        "colab": {
          "base_uri": "https://localhost:8080/"
        },
        "id": "Oz9nkgmFQtNj",
        "outputId": "ebcca785-44d3-4632-cea9-6ce4e176212f"
      },
      "execution_count": null,
      "outputs": [
        {
          "output_type": "execute_result",
          "data": {
            "text/plain": [
              "tensor([[ 0,  1,  2,  3,  4,  5,  6,  7,  8],\n",
              "        [ 9, 10, 11, 12, 13, 14, 15, 16, 17]])"
            ]
          },
          "metadata": {},
          "execution_count": 26
        }
      ]
    },
    {
      "cell_type": "code",
      "source": [
        "h = torch.tanh(emb.view(-1, 6) @ w1 + b1)\n",
        "h.shape"
      ],
      "metadata": {
        "colab": {
          "base_uri": "https://localhost:8080/"
        },
        "id": "F6So2Wz1Qy2a",
        "outputId": "6575eb89-e8bc-4697-bb09-6436e5bbcc39"
      },
      "execution_count": null,
      "outputs": [
        {
          "output_type": "execute_result",
          "data": {
            "text/plain": [
              "torch.Size([228146, 100])"
            ]
          },
          "metadata": {},
          "execution_count": 28
        }
      ]
    },
    {
      "cell_type": "code",
      "source": [
        "h"
      ],
      "metadata": {
        "colab": {
          "base_uri": "https://localhost:8080/"
        },
        "id": "8iWbobg9Q9rK",
        "outputId": "14410b93-55b0-4aa7-a9c1-23c594f48622"
      },
      "execution_count": null,
      "outputs": [
        {
          "output_type": "execute_result",
          "data": {
            "text/plain": [
              "tensor([[-0.9856, -0.1487, -0.1818,  ...,  0.8785, -0.9494,  0.9307],\n",
              "        [-0.7910, -0.8001,  0.7842,  ...,  0.6979, -0.9896,  0.9156],\n",
              "        [-0.6703,  0.1788,  0.8842,  ...,  0.4138, -0.9491,  0.9336],\n",
              "        ...,\n",
              "        [-0.9479,  0.9994, -0.9552,  ...,  0.8596,  0.9996,  0.4980],\n",
              "        [-0.0328, -0.9704, -0.2289,  ...,  0.7041, -0.9060, -0.5141],\n",
              "        [-0.9718,  0.5028,  0.7967,  ...,  0.9463, -0.9498,  0.9998]])"
            ]
          },
          "metadata": {},
          "execution_count": 29
        }
      ]
    },
    {
      "cell_type": "markdown",
      "source": [
        "implementing outer layer"
      ],
      "metadata": {
        "id": "iVOz1CLSSRdw"
      }
    },
    {
      "cell_type": "code",
      "source": [
        "w2 = torch.randn((100, 27))\n",
        "b2 = torch.randn(27)\n",
        "logits = h@w2 + b2\n",
        "logits.shape"
      ],
      "metadata": {
        "colab": {
          "base_uri": "https://localhost:8080/"
        },
        "id": "abpqqj8fSApW",
        "outputId": "5e8349ea-2dc1-4e0d-b1d9-342741a6b1ce"
      },
      "execution_count": null,
      "outputs": [
        {
          "output_type": "execute_result",
          "data": {
            "text/plain": [
              "torch.Size([228146, 27])"
            ]
          },
          "metadata": {},
          "execution_count": 30
        }
      ]
    },
    {
      "cell_type": "code",
      "source": [
        "#----------------coded nicely here--------------------"
      ],
      "metadata": {
        "id": "zJritirTVcyG"
      },
      "execution_count": null,
      "outputs": []
    },
    {
      "cell_type": "code",
      "source": [
        "Xtr.shape, Ytr.shape"
      ],
      "metadata": {
        "colab": {
          "base_uri": "https://localhost:8080/"
        },
        "id": "Psv66ffmW9y_",
        "outputId": "939e5195-fea3-4bc5-849f-22d030a794d0"
      },
      "execution_count": null,
      "outputs": [
        {
          "output_type": "execute_result",
          "data": {
            "text/plain": [
              "(torch.Size([182580, 3]), torch.Size([182580]))"
            ]
          },
          "metadata": {},
          "execution_count": 87
        }
      ]
    },
    {
      "cell_type": "code",
      "source": [
        "g = torch.Generator().manual_seed(2147483647) # for reproducibility\n",
        "C = torch.randn((27, 10), generator=g)\n",
        "W1 = torch.randn((30, 200), generator=g)\n",
        "b1 = torch.randn(200, generator=g)\n",
        "W2 = torch.randn((200, 27), generator=g)\n",
        "b2 = torch.randn(27, generator=g)\n",
        "parameters = [C, W1, b1, W2, b2]"
      ],
      "metadata": {
        "id": "K4TFQQMGXBCQ"
      },
      "execution_count": null,
      "outputs": []
    },
    {
      "cell_type": "code",
      "source": [
        "sum(p.nelement() for p in parameters)"
      ],
      "metadata": {
        "colab": {
          "base_uri": "https://localhost:8080/"
        },
        "id": "0RASylMiXTYd",
        "outputId": "ed6d75a0-ae30-41f5-e12c-c8dc188c5fa4"
      },
      "execution_count": null,
      "outputs": [
        {
          "output_type": "execute_result",
          "data": {
            "text/plain": [
              "11897"
            ]
          },
          "metadata": {},
          "execution_count": 138
        }
      ]
    },
    {
      "cell_type": "code",
      "source": [
        "for p in parameters:\n",
        "  p.requires_grad = True"
      ],
      "metadata": {
        "id": "JZKrCln_kPpV"
      },
      "execution_count": null,
      "outputs": []
    },
    {
      "cell_type": "code",
      "source": [
        "lri = []\n",
        "lossi = []\n",
        "stepi = []"
      ],
      "metadata": {
        "id": "cfqc15fWy1S1"
      },
      "execution_count": null,
      "outputs": []
    },
    {
      "cell_type": "code",
      "source": [
        "for i in range(200000):\n",
        "\n",
        "  # mini batch construct\n",
        "  ix = torch.randint(0, Xtr.shape[0], (32,))\n",
        "\n",
        "  # forward pass\n",
        "  emb = C[Xtr[ix]] #(32, 3, 10)\n",
        "  h = torch.tanh(emb.view(-1, 30) @ W1 + b1) #(32, 100)\n",
        "  logits = h @ W2 + b2 #(32, 27)\n",
        "  loss = F.cross_entropy(logits, Ytr[ix])\n",
        "  #print(loss.item())\n",
        "\n",
        "  #backcward pass\n",
        "  for p in parameters:\n",
        "    p.grad = None\n",
        "  loss.backward()\n",
        "\n",
        "  #update\n",
        "  #lr = lrs[i]\n",
        "  lr = 0.1 if i < 100000 else 0.01\n",
        "  for p in parameters:\n",
        "    p.data += -lr * p.grad\n",
        "\n",
        "  # track stats\n",
        "  # lri.append(lr)\n",
        "  stepi.append(i)\n",
        "  lossi.append(loss.log10().item())\n",
        "\n",
        "# print(loss.item())"
      ],
      "metadata": {
        "collapsed": true,
        "id": "j1E6kXXJlA-O"
      },
      "execution_count": null,
      "outputs": []
    },
    {
      "cell_type": "code",
      "source": [
        "plt.plot(stepi, lossi)"
      ],
      "metadata": {
        "colab": {
          "base_uri": "https://localhost:8080/",
          "height": 447
        },
        "id": "i-VcOnSly-82",
        "outputId": "18e15d8a-5801-479a-bc73-3f25258ea5d0"
      },
      "execution_count": null,
      "outputs": [
        {
          "output_type": "execute_result",
          "data": {
            "text/plain": [
              "[<matplotlib.lines.Line2D at 0x7f280caa9450>]"
            ]
          },
          "metadata": {},
          "execution_count": 153
        },
        {
          "output_type": "display_data",
          "data": {
            "text/plain": [
              "<Figure size 640x480 with 1 Axes>"
            ],
            "image/png": "[encoded data removed]"
          },
          "metadata": {}
        }
      ]
    },
    {
      "cell_type": "code",
      "source": [
        "emb = C[Xtr]\n",
        "h = torch.tanh(emb.view(-1, 30) @ W1 + b1)\n",
        "logits = h @ W2 + b2\n",
        "loss = F.cross_entropy(logits, Ytr)\n",
        "loss"
      ],
      "metadata": {
        "colab": {
          "base_uri": "https://localhost:8080/"
        },
        "id": "1iaUVLi8ze85",
        "outputId": "afbd75b1-0f0f-412e-f293-da0bd73ca62e"
      },
      "execution_count": null,
      "outputs": [
        {
          "output_type": "execute_result",
          "data": {
            "text/plain": [
              "tensor(2.1113, grad_fn=<NllLossBackward0>)"
            ]
          },
          "metadata": {},
          "execution_count": 151
        }
      ]
    },
    {
      "cell_type": "code",
      "source": [
        "emb = C[Xdev]\n",
        "h = torch.tanh(emb.view(-1, 30) @ W1 + b1)\n",
        "logits = h @ W2 + b2\n",
        "loss = F.cross_entropy(logits, Ydev)\n",
        "loss"
      ],
      "metadata": {
        "colab": {
          "base_uri": "https://localhost:8080/"
        },
        "id": "c5K_yT3hoozF",
        "outputId": "76d06d8b-de6d-4689-f502-2d2ab17f6d0a"
      },
      "execution_count": null,
      "outputs": [
        {
          "output_type": "execute_result",
          "data": {
            "text/plain": [
              "tensor(2.1613, grad_fn=<NllLossBackward0>)"
            ]
          },
          "metadata": {},
          "execution_count": 152
        }
      ]
    },
    {
      "cell_type": "code",
      "source": [
        "# visualize dimensions 0 and 1 of the embedding matrix C for all characters\n",
        "plt.figure(figsize=(8,8))\n",
        "plt.scatter(C[:,0].data, C[:,1].data, s=200)\n",
        "for i in range(C.shape[0]):\n",
        "    plt.text(C[i,0].item(), C[i,1].item(), itos[i], ha=\"center\", va=\"center\", color='white')\n",
        "plt.grid('minor')"
      ],
      "metadata": {
        "colab": {
          "base_uri": "https://localhost:8080/",
          "height": 635
        },
        "id": "bm9YAnnHuj6G",
        "outputId": "cae1baa5-5df6-4621-b616-cc9f1720d7ea"
      },
      "execution_count": null,
      "outputs": [
        {
          "output_type": "display_data",
          "data": {
            "text/plain": [
              "<Figure size 800x800 with 1 Axes>"
            ],
            "image/png": "[encoded data removed]"
          },
          "metadata": {}
        }
      ]
    },
    {
      "cell_type": "code",
      "source": [
        "# sample from the model\n",
        "g = torch.Generator().manual_seed(2147483647 + 10)\n",
        "\n",
        "for _ in range(20):\n",
        "\n",
        "    out = []\n",
        "    context = [0] * block_size # initialize with all ...\n",
        "    while True:\n",
        "      emb = C[torch.tensor([context])] # (1,block_size,d)\n",
        "      h = torch.tanh(emb.view(1, -1) @ W1 + b1)\n",
        "      logits = h @ W2 + b2\n",
        "      probs = F.softmax(logits, dim=1)\n",
        "      ix = torch.multinomial(probs, num_samples=1, generator=g).item()\n",
        "      context = context[1:] + [ix]\n",
        "      out.append(ix)\n",
        "      if ix == 0:\n",
        "        break\n",
        "\n",
        "    print(''.join(itos[i] for i in out))"
      ],
      "metadata": {
        "colab": {
          "base_uri": "https://localhost:8080/"
        },
        "id": "DI3tdyfT2AA_",
        "outputId": "6ff36090-e35e-4e97-807b-0d2d9377abc1"
      },
      "execution_count": null,
      "outputs": [
        {
          "output_type": "stream",
          "name": "stdout",
          "text": [
            "mora.\n",
            "kayanniellend.\n",
            "ryla.\n",
            "remmadiendraj.\n",
            "cadered.\n",
            "eliah.\n",
            "miloparetelleananaraelyzimankelin.\n",
            "shrusrishimier.\n",
            "kindreelynn.\n",
            "nopucayzon.\n",
            "teda.\n",
            "jamelizeko.\n",
            "kayshuston.\n",
            "mahil.\n",
            "calynn.\n",
            "khazaril.\n",
            "julen.\n",
            "crevis.\n",
            "jaisley.\n",
            "adi.\n"
          ]
        }
      ]
    }
  ]
}