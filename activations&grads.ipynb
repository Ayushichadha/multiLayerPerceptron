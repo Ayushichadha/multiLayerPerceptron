{
  "nbformat": 4,
  "nbformat_minor": 0,
  "metadata": {
    "colab": {
      "provenance": [],
      "authorship_tag": "ABX9TyNSInkIbajirClGbG3jW1KG",
      "include_colab_link": true
    },
    "kernelspec": {
      "name": "python3",
      "display_name": "Python 3"
    },
    "language_info": {
      "name": "python"
    }
  },
  "cells": [
    {
      "cell_type": "markdown",
      "metadata": {
        "id": "view-in-github",
        "colab_type": "text"
      },
      "source": [
        "<a href=\"https://colab.research.google.com/github/Ayushichadha/multiLayerPerceptron/blob/main/activations%26grads.ipynb\" target=\"_parent\"><img src=\"https://colab.research.google.com/assets/colab-badge.svg\" alt=\"Open In Colab\"/></a>"
      ]
    },
    {
      "cell_type": "markdown",
      "source": [
        "Studying internals of MLPs with multiple layers and scrutinizing the statistics of the forward pass activations, backward pass gradients, and some of the pitfalls when they are improperly scaled. Also, looking at the typical diagnostic tools and visualizations we'd want to use to understand the health of our deep network. We learn why training deep neural nets can be fragile and introducing the first modern innovation that made doing so much easier: Batch Normalization."
      ],
      "metadata": {
        "id": "YzEgYbjEHbuI"
      }
    },
    {
      "cell_type": "markdown",
      "source": [
        "Reading materials-"
      ],
      "metadata": {
        "id": "qMAS6e9aHrCm"
      }
    },
    {
      "cell_type": "markdown",
      "source": [
        "\n",
        "\n",
        "*   Neural Probabilistic Language Model paper (bengio et al.) - MLP\n",
        "*   Kaiming init Paper\n",
        "*   Batch Normalisation paper\n",
        "*   Rethinking \"batch\" in Batch Norm paper\n",
        "\n",
        "\n",
        "\n"
      ],
      "metadata": {
        "id": "6xBzoEQiHwH7"
      }
    },
    {
      "cell_type": "code",
      "execution_count": null,
      "metadata": {
        "id": "ApaytuCSHPTU"
      },
      "outputs": [],
      "source": [
        "# fixing the initial loss\n",
        "# fixing the saturated tanh\n",
        "# calculating the init scale: “Kaiming init”\n",
        "# batch normalization\n",
        "# real example: resnet50 walkthrough\n",
        "# part2: PyTorch-ifying the code\n",
        "# viz #1: forward pass activations statistics\n",
        "# viz #2: backward pass gradient statistics\n",
        "# the fully linear case of no non-linearities\n",
        "# viz #3: parameter activation and gradient statistics\n",
        "# viz #4: update:data ratio over time\n",
        "# bringing back batchnorm, looking at the visualizations"
      ]
    },
    {
      "cell_type": "markdown",
      "source": [
        "Trying to build a strong intuitive understanding of activations and esp gradients that are flowing backwards and how they behave and look like.\n",
        "\n",
        "important to understand the history of development of these architectures because we'll see that recurrent neural networks, while they are very impressive in that they are universal approximator and can in principle implement all the algorithms. But, they are not very easily optimizible with the first order gradient based techniques. Key to understand why they are not optimizable easily is to understand the activations and gradients and how they behave during training."
      ],
      "metadata": {
        "id": "k0KfQIBfvxES"
      }
    },
    {
      "cell_type": "code",
      "source": [
        "import torch\n",
        "import torch.nn.functional as F\n",
        "import matplotlib.pyplot as plt # for making figures\n",
        "%matplotlib inline"
      ],
      "metadata": {
        "id": "sI7xR9wuvW47"
      },
      "execution_count": null,
      "outputs": []
    },
    {
      "cell_type": "code",
      "source": [
        "# download the names.txt file from github\n",
        "!wget https://raw.githubusercontent.com/karpathy/makemore/master/names.txt"
      ],
      "metadata": {
        "colab": {
          "base_uri": "https://localhost:8080/"
        },
        "id": "PTySoNhqx2-7",
        "outputId": "1bdc37fe-a842-4d18-e51c-051bbe1f96fc"
      },
      "execution_count": null,
      "outputs": [
        {
          "output_type": "stream",
          "name": "stdout",
          "text": [
            "--2025-08-04 09:14:09--  https://raw.githubusercontent.com/karpathy/makemore/master/names.txt\n",
            "Resolving raw.githubusercontent.com (raw.githubusercontent.com)... 185.199.108.133, 185.199.110.133, 185.199.109.133, ...\n",
            "Connecting to raw.githubusercontent.com (raw.githubusercontent.com)|185.199.108.133|:443... connected.\n",
            "HTTP request sent, awaiting response... 200 OK\n",
            "Length: 228145 (223K) [text/plain]\n",
            "Saving to: ‘names.txt.1’\n",
            "\n",
            "names.txt.1         100%[===================>] 222.80K  1.37MB/s    in 0.2s    \n",
            "\n",
            "2025-08-04 09:14:09 (1.37 MB/s) - ‘names.txt.1’ saved [228145/228145]\n",
            "\n"
          ]
        }
      ]
    },
    {
      "cell_type": "code",
      "source": [
        "# read in all the words\n",
        "words = open('names.txt', 'r').read().splitlines()\n",
        "words[:8]"
      ],
      "metadata": {
        "colab": {
          "base_uri": "https://localhost:8080/"
        },
        "id": "ZmsXsBfsyB1m",
        "outputId": "fc01156c-7aa8-47ed-8c61-f6e723e68f75"
      },
      "execution_count": null,
      "outputs": [
        {
          "output_type": "execute_result",
          "data": {
            "text/plain": [
              "['emma', 'olivia', 'ava', 'isabella', 'sophia', 'charlotte', 'mia', 'amelia']"
            ]
          },
          "metadata": {},
          "execution_count": 15
        }
      ]
    },
    {
      "cell_type": "code",
      "source": [
        "len(words)"
      ],
      "metadata": {
        "colab": {
          "base_uri": "https://localhost:8080/"
        },
        "id": "gg2pbnPNyCPU",
        "outputId": "dce09f98-b6d8-4497-ed49-6cdaf06ae010"
      },
      "execution_count": null,
      "outputs": [
        {
          "output_type": "execute_result",
          "data": {
            "text/plain": [
              "32033"
            ]
          },
          "metadata": {},
          "execution_count": 16
        }
      ]
    },
    {
      "cell_type": "code",
      "source": [
        "# build the vocabulary of characters and mappings to/from integers\n",
        "chars = sorted(list(set(''.join(words))))\n",
        "stoi = {s:i+1 for i,s in enumerate(chars)}\n",
        "stoi['.'] = 0\n",
        "itos = {i:s for s,i in stoi.items()}\n",
        "vocab_size = len(itos)\n",
        "print(itos)\n",
        "print(vocab_size)"
      ],
      "metadata": {
        "colab": {
          "base_uri": "https://localhost:8080/"
        },
        "id": "m043sBVRyE8Z",
        "outputId": "0b620375-ebcd-4700-c9ec-3d246b427a4d"
      },
      "execution_count": null,
      "outputs": [
        {
          "output_type": "stream",
          "name": "stdout",
          "text": [
            "{1: 'a', 2: 'b', 3: 'c', 4: 'd', 5: 'e', 6: 'f', 7: 'g', 8: 'h', 9: 'i', 10: 'j', 11: 'k', 12: 'l', 13: 'm', 14: 'n', 15: 'o', 16: 'p', 17: 'q', 18: 'r', 19: 's', 20: 't', 21: 'u', 22: 'v', 23: 'w', 24: 'x', 25: 'y', 26: 'z', 0: '.'}\n",
            "27\n"
          ]
        }
      ]
    },
    {
      "cell_type": "code",
      "source": [
        "# build the dataset\n",
        "block_size = 3 # context length: how many characters do we take to predict the next one?\n",
        "\n",
        "def build_dataset(words):\n",
        "  X, Y = [], []\n",
        "\n",
        "  for w in words:\n",
        "    context = [0] * block_size\n",
        "    for ch in w + '.':\n",
        "      ix = stoi[ch]\n",
        "      X.append(context)\n",
        "      Y.append(ix)\n",
        "      context = context[1:] + [ix] # crop and append\n",
        "\n",
        "  X = torch.tensor(X)\n",
        "  Y = torch.tensor(Y)\n",
        "  print(X.shape, Y.shape)\n",
        "  return X, Y\n",
        "\n",
        "import random\n",
        "random.seed(42)\n",
        "random.shuffle(words)\n",
        "n1 = int(0.8*len(words))\n",
        "n2 = int(0.9*len(words))\n",
        "\n",
        "Xtr,  Ytr  = build_dataset(words[:n1])     # 80%\n",
        "Xdev, Ydev = build_dataset(words[n1:n2])   # 10%\n",
        "Xte,  Yte  = build_dataset(words[n2:])     # 10%\n"
      ],
      "metadata": {
        "colab": {
          "base_uri": "https://localhost:8080/"
        },
        "id": "hzUV65izyHkI",
        "outputId": "a5fbff97-0a06-43ca-b1a6-d69aacfbbb3a"
      },
      "execution_count": null,
      "outputs": [
        {
          "output_type": "stream",
          "name": "stdout",
          "text": [
            "torch.Size([182625, 3]) torch.Size([182625])\n",
            "torch.Size([22655, 3]) torch.Size([22655])\n",
            "torch.Size([22866, 3]) torch.Size([22866])\n"
          ]
        }
      ]
    },
    {
      "cell_type": "code",
      "source": [
        "# MLP revisited\n",
        "n_embd = 10 # the dimensionality of the character embedding vectors\n",
        "n_hidden = 200 # the number of neurons in the hidden layer of the MLP\n",
        "\n",
        "g = torch.Generator().manual_seed(2147483647) # for reproducibility\n",
        "C  = torch.randn((vocab_size, n_embd),            generator=g)\n",
        "W1 = torch.randn((n_embd * block_size, n_hidden), generator=g) * (5/3)/((n_embd * block_size)**0.5) #* 0.2\n",
        "#b1 = torch.randn(n_hidden,                        generator=g) * 0.01\n",
        "W2 = torch.randn((n_hidden, vocab_size),          generator=g) * 0.01\n",
        "b2 = torch.randn(vocab_size,                      generator=g) * 0\n",
        "\n",
        "# BatchNorm parameters\n",
        "bngain = torch.ones((1, n_hidden))\n",
        "bnbias = torch.zeros((1, n_hidden))\n",
        "bnmean_running = torch.zeros((1, n_hidden))\n",
        "bnstd_running = torch.ones((1, n_hidden))\n",
        "\n",
        "parameters = [C, W1, W2, b2, bngain, bnbias]\n",
        "print(sum(p.nelement() for p in parameters)) # number of parameters in total\n",
        "for p in parameters:\n",
        "  p.requires_grad = True"
      ],
      "metadata": {
        "colab": {
          "base_uri": "https://localhost:8080/"
        },
        "id": "70FqXcPVyMtP",
        "outputId": "a09bc21a-e6df-4744-b2ad-1169504000fa"
      },
      "execution_count": null,
      "outputs": [
        {
          "output_type": "stream",
          "name": "stdout",
          "text": [
            "12097\n"
          ]
        }
      ]
    },
    {
      "cell_type": "code",
      "source": [
        "# same optimization as last time\n",
        "max_steps = 200000\n",
        "batch_size = 32\n",
        "lossi = []\n",
        "\n",
        "for i in range(max_steps):\n",
        "\n",
        "  # minibatch construct\n",
        "  ix = torch.randint(0, Xtr.shape[0], (batch_size,), generator=g)\n",
        "  Xb, Yb = Xtr[ix], Ytr[ix] # batch X,Y\n",
        "\n",
        "  # forward pass\n",
        "  emb = C[Xb] # embed the characters into vectors\n",
        "  embcat = emb.view(emb.shape[0], -1) # concatenate the vectors\n",
        "  # Linear layer\n",
        "  hpreact = embcat @ W1 #+ b1 # hidden layer pre-activation\n",
        "  # BatchNorm layer\n",
        "  # -------------------------------------------------------------\n",
        "  bnmeani = hpreact.mean(0, keepdim=True)\n",
        "  bnstdi = hpreact.std(0, keepdim=True)\n",
        "  hpreact = bngain * (hpreact - bnmeani) / bnstdi + bnbias\n",
        "  with torch.no_grad():\n",
        "    bnmean_running = 0.999 * bnmean_running + 0.001 * bnmeani\n",
        "    bnstd_running = 0.999 * bnstd_running + 0.001 * bnstdi\n",
        "  # -------------------------------------------------------------\n",
        "  # Non-linearity\n",
        "  h = torch.tanh(hpreact) # hidden layer\n",
        "  logits = h @ W2 + b2 # output layer\n",
        "  loss = F.cross_entropy(logits, Yb) # loss function\n",
        "\n",
        "  # backward pass\n",
        "  for p in parameters:\n",
        "    p.grad = None\n",
        "  loss.backward()\n",
        "\n",
        "  # update\n",
        "  lr = 0.1 if i < 100000 else 0.01 # step learning rate decay\n",
        "  for p in parameters:\n",
        "    p.data += -lr * p.grad\n",
        "\n",
        "  # track stats\n",
        "  if i % 10000 == 0: # print every once in a while\n",
        "    print(f'{i:7d}/{max_steps:7d}: {loss.item():.4f}')\n",
        "  lossi.append(loss.log10().item())\n"
      ],
      "metadata": {
        "colab": {
          "base_uri": "https://localhost:8080/"
        },
        "id": "MaF9oKRD1Mtg",
        "outputId": "eb197e37-ec7d-41db-c5e4-44d3fadad610"
      },
      "execution_count": null,
      "outputs": [
        {
          "output_type": "stream",
          "name": "stdout",
          "text": [
            "      0/ 200000: 3.3239\n",
            "  10000/ 200000: 2.0322\n",
            "  20000/ 200000: 2.5675\n",
            "  30000/ 200000: 2.0125\n",
            "  40000/ 200000: 2.2446\n",
            "  50000/ 200000: 1.8897\n",
            "  60000/ 200000: 2.0785\n",
            "  70000/ 200000: 2.3681\n",
            "  80000/ 200000: 2.2918\n",
            "  90000/ 200000: 2.0238\n",
            " 100000/ 200000: 2.3673\n",
            " 110000/ 200000: 2.3132\n",
            " 120000/ 200000: 1.6414\n",
            " 130000/ 200000: 1.9311\n",
            " 140000/ 200000: 2.2231\n",
            " 150000/ 200000: 2.0027\n",
            " 160000/ 200000: 2.0997\n",
            " 170000/ 200000: 2.4949\n",
            " 180000/ 200000: 2.0199\n",
            " 190000/ 200000: 2.1707\n"
          ]
        }
      ]
    },
    {
      "cell_type": "code",
      "source": [
        "plt.plot(lossi)"
      ],
      "metadata": {
        "colab": {
          "base_uri": "https://localhost:8080/",
          "height": 447
        },
        "id": "HHQXWzhT1WF3",
        "outputId": "988b06c5-3c4c-4527-c3c9-687d86de79f7"
      },
      "execution_count": null,
      "outputs": [
        {
          "output_type": "execute_result",
          "data": {
            "text/plain": [
              "[<matplotlib.lines.Line2D at 0x7f818bce8590>]"
            ]
          },
          "metadata": {},
          "execution_count": 22
        },
        {
          "output_type": "display_data",
          "data": {
            "text/plain": [
              "<Figure size 640x480 with 1 Axes>"
            ],
            "image/png": "[encoded data removed]"
          },
          "metadata": {}
        }
      ]
    },
    {
      "cell_type": "code",
      "source": [
        "@torch.no_grad() # this decorator disables gradient tracking\n",
        "def split_loss(split):\n",
        "  x,y = {\n",
        "    'train': (Xtr, Ytr),\n",
        "    'val': (Xdev, Ydev),\n",
        "    'test': (Xte, Yte),\n",
        "  }[split]\n",
        "  emb = C[x] # (N, block_size, n_embd)\n",
        "  embcat = emb.view(emb.shape[0], -1) # concat into (N, block_size * n_embd)\n",
        "  hpreact = embcat @ W1 # + b1\n",
        "  #hpreact = bngain * (hpreact - hpreact.mean(0, keepdim=True)) / hpreact.std(0, keepdim=True) + bnbias\n",
        "  hpreact = bngain * (hpreact - bnmean_running) / bnstd_running + bnbias\n",
        "  h = torch.tanh(hpreact) # (N, n_hidden)\n",
        "  logits = h @ W2 + b2 # (N, vocab_size)\n",
        "  loss = F.cross_entropy(logits, y)\n",
        "  print(split, loss.item())\n",
        "\n",
        "split_loss('train')\n",
        "split_loss('val')"
      ],
      "metadata": {
        "id": "JxTbxN9D1WvH",
        "colab": {
          "base_uri": "https://localhost:8080/"
        },
        "outputId": "1d7aab98-bdde-4e03-d257-8733c5738915"
      },
      "execution_count": null,
      "outputs": [
        {
          "output_type": "stream",
          "name": "stdout",
          "text": [
            "train 2.0674147605895996\n",
            "val 2.1056840419769287\n"
          ]
        }
      ]
    },
    {
      "cell_type": "code",
      "source": [
        "-torch.tensor(1/27.0).log()"
      ],
      "metadata": {
        "colab": {
          "base_uri": "https://localhost:8080/"
        },
        "id": "L1t3kiOu3dBK",
        "outputId": "2dba1b04-f04c-46d5-b2d6-575ac73c59a5"
      },
      "execution_count": null,
      "outputs": [
        {
          "output_type": "execute_result",
          "data": {
            "text/plain": [
              "tensor(3.2958)"
            ]
          },
          "metadata": {},
          "execution_count": 24
        }
      ]
    },
    {
      "cell_type": "markdown",
      "source": [
        "fixing initial loss - initialising the weights and biases of the neural net. logits depend of w2, b2."
      ],
      "metadata": {
        "id": "bUVB426PDwE2"
      }
    },
    {
      "cell_type": "code",
      "source": [
        "# 4 dimensional example of the issue\n",
        "logits = torch.tensor([1.0, 1.0, 1.0, 1.0])\n",
        "#logits = torch.randn(4)\n",
        "probs = torch.softmax(logits, dim=0)\n",
        "loss = -probs[2].log()\n",
        "logits,probs, loss"
      ],
      "metadata": {
        "colab": {
          "base_uri": "https://localhost:8080/"
        },
        "id": "kpNyZMJr2G_L",
        "outputId": "6cdd8967-a37c-4c89-dd5e-589575e735e5"
      },
      "execution_count": null,
      "outputs": [
        {
          "output_type": "execute_result",
          "data": {
            "text/plain": [
              "(tensor([1., 1., 1., 1.]),\n",
              " tensor([0.2500, 0.2500, 0.2500, 0.2500]),\n",
              " tensor(1.3863))"
            ]
          },
          "metadata": {},
          "execution_count": 25
        }
      ]
    },
    {
      "cell_type": "code",
      "source": [
        "# 4 dimensional example of the issue\n",
        "logits = torch.randn(4) * 5\n",
        "probs = torch.softmax(logits, dim=0)\n",
        "loss = -probs[2].log()\n",
        "logits,probs, loss"
      ],
      "metadata": {
        "colab": {
          "base_uri": "https://localhost:8080/"
        },
        "id": "N2CuIJfVDh04",
        "outputId": "3949945a-be75-43f2-9f91-4994ce71c1d9"
      },
      "execution_count": null,
      "outputs": [
        {
          "output_type": "execute_result",
          "data": {
            "text/plain": [
              "(tensor([-0.2047, -6.0700,  8.4382, -1.5566]),\n",
              " tensor([1.7634e-04, 5.0014e-07, 9.9978e-01, 4.5627e-05]),\n",
              " tensor(0.0002))"
            ]
          },
          "metadata": {},
          "execution_count": 26
        }
      ]
    },
    {
      "cell_type": "markdown",
      "source": [
        "fixing tanh activation values. pre activation values - are extreme and tanh is very active which leads to vlaues at tail ends of the tanh graph i.e. 0 gradients (see tanh part of autograd lecture). deriviative of tanh = (1 - tanh**2).out.grad. So, any values of tanh = -1, 1 would result in 0 gradient and eventually those neurons will not learn during backpropagation."
      ],
      "metadata": {
        "id": "RSIRFRDYHh3_"
      }
    },
    {
      "cell_type": "code",
      "source": [
        "# tanh activation values - okay now!\n",
        "plt.hist(h.view(-1).tolist(), 50);"
      ],
      "metadata": {
        "colab": {
          "base_uri": "https://localhost:8080/",
          "height": 430
        },
        "id": "Z89jT-4g3DTS",
        "outputId": "acd55813-d4dd-4705-ac70-2c4132df8993"
      },
      "execution_count": null,
      "outputs": [
        {
          "output_type": "display_data",
          "data": {
            "text/plain": [
              "<Figure size 640x480 with 1 Axes>"
            ],
            "image/png": "[encoded data removed]"
          },
          "metadata": {}
        }
      ]
    },
    {
      "cell_type": "markdown",
      "source": [
        "just to motivate discussion on Kaiming init."
      ],
      "metadata": {
        "id": "Xgi5eduL9Sgb"
      }
    },
    {
      "cell_type": "code",
      "source": [
        "# instead of initializing the network by magic numbers hard coded,\n",
        "# what's the method to come up with a value that helps to initialise large NN?"
      ],
      "metadata": {
        "id": "00b5zZJpMdjY"
      },
      "execution_count": null,
      "outputs": []
    },
    {
      "cell_type": "code",
      "source": [
        "x = torch.randn(1000, 10)\n",
        "w = torch.randn(10, 200) * 0.2\n",
        "y = x @ w\n",
        "print(x.mean(), x.std())\n",
        "print(y.mean(), y.std())\n",
        "plt.figure(figsize=(20, 5))\n",
        "plt.subplot(121)\n",
        "plt.hist(x.view(-1).tolist(), 50, density=True)\n",
        "plt.subplot(122)\n",
        "plt.hist(y.view(-1).tolist(), 50, density=True)"
      ],
      "metadata": {
        "colab": {
          "base_uri": "https://localhost:8080/",
          "height": 643
        },
        "id": "_0X-p0JP9sGb",
        "outputId": "e0b2dd38-1890-46ad-a6fa-d3be991124f2"
      },
      "execution_count": null,
      "outputs": [
        {
          "output_type": "stream",
          "name": "stdout",
          "text": [
            "tensor(0.0048) tensor(1.0069)\n",
            "tensor(0.0004) tensor(0.6292)\n"
          ]
        },
        {
          "output_type": "execute_result",
          "data": {
            "text/plain": [
              "(array([7.07625531e-05, 3.53812766e-05, 3.53812766e-05, 2.83050213e-04,\n",
              "        2.83050213e-04, 2.47668936e-04, 4.95337872e-04, 1.23834468e-03,\n",
              "        2.33516425e-03, 2.97202723e-03, 5.20104766e-03, 9.51756340e-03,\n",
              "        1.51785676e-02, 2.26086357e-02, 3.35060689e-02, 5.49471225e-02,\n",
              "        8.10231233e-02, 1.21251635e-01, 1.70785422e-01, 2.38646710e-01,\n",
              "        3.26392276e-01, 4.12191872e-01, 5.20670866e-01, 6.10680834e-01,\n",
              "        6.88342736e-01, 6.94322171e-01, 6.65274143e-01, 5.76077945e-01,\n",
              "        4.86669459e-01, 3.74263144e-01, 2.89595749e-01, 2.17347182e-01,\n",
              "        1.50511951e-01, 1.04763960e-01, 6.90642519e-02, 4.69863353e-02,\n",
              "        2.97202723e-02, 1.98842774e-02, 1.17112025e-02, 8.49150638e-03,\n",
              "        4.59956595e-03, 2.90126468e-03, 1.98135149e-03, 1.48601362e-03,\n",
              "        8.84531914e-04, 4.24575319e-04, 2.12287659e-04, 3.53812766e-05,\n",
              "        7.07625531e-05, 3.53812766e-05]),\n",
              " array([-3.57792091, -3.43660323, -3.29528555, -3.15396787, -3.01265018,\n",
              "        -2.8713325 , -2.73001482, -2.58869714, -2.44737946, -2.30606177,\n",
              "        -2.16474409, -2.02342641, -1.88210873, -1.74079104, -1.59947336,\n",
              "        -1.45815568, -1.316838  , -1.17552032, -1.03420263, -0.89288495,\n",
              "        -0.75156727, -0.61024959, -0.4689319 , -0.32761422, -0.18629654,\n",
              "        -0.04497886,  0.09633883,  0.23765651,  0.37897419,  0.52029187,\n",
              "         0.66160955,  0.80292724,  0.94424492,  1.0855626 ,  1.22688028,\n",
              "         1.36819797,  1.50951565,  1.65083333,  1.79215101,  1.93346869,\n",
              "         2.07478638,  2.21610406,  2.35742174,  2.49873942,  2.64005711,\n",
              "         2.78137479,  2.92269247,  3.06401015,  3.20532784,  3.34664552,\n",
              "         3.4879632 ]),\n",
              " <BarContainer object of 50 artists>)"
            ]
          },
          "metadata": {},
          "execution_count": 29
        },
        {
          "output_type": "display_data",
          "data": {
            "text/plain": [
              "<Figure size 2000x500 with 2 Axes>"
            ],
            "image/png": "[encoded data removed]"
          },
          "metadata": {}
        }
      ]
    },
    {
      "cell_type": "markdown",
      "source": [
        "Some notes and links-"
      ],
      "metadata": {
        "id": "2QaeRxTPdJ5N"
      }
    },
    {
      "cell_type": "markdown",
      "source": [
        "Linear Layer\n",
        "\n",
        "CLASS torch.nn.Linear(in_features, out_features, bias=True, device=None, dtype=None)[SOURCE][SOURCE]\n",
        "Applies an affine linear transformation to the incoming data:\n",
        "y\n",
        "=\n",
        "x\n",
        "A\n",
        "T\n",
        "+\n",
        "b\n",
        "y=xA\n",
        "T\n",
        " +b.\n",
        "\n",
        "This module supports TensorFloat32."
      ],
      "metadata": {
        "id": "CVMYiqJpdAqs"
      }
    },
    {
      "cell_type": "markdown",
      "source": [
        "https://docs.pytorch.org/docs/stable/generated/torch.nn.Linear.html"
      ],
      "metadata": {
        "id": "St6QN2NUddMK"
      }
    },
    {
      "cell_type": "markdown",
      "source": [
        "Batch Norm 1D\n",
        "\n",
        "CLASS torch.nn.BatchNorm1d(num_features, eps=1e-05, momentum=0.1, affine=True, track_running_stats=True, device=None, dtype=None.\n",
        "\n",
        "https://docs.pytorch.org/docs/stable/generated/torch.nn.BatchNorm1d.html"
      ],
      "metadata": {
        "id": "djbnLGM7hSAL"
      }
    },
    {
      "cell_type": "code",
      "source": [],
      "metadata": {
        "id": "aQ7XiXdA6dz1"
      },
      "execution_count": null,
      "outputs": []
    }
  ]
}