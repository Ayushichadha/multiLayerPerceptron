{
  "nbformat": 4,
  "nbformat_minor": 0,
  "metadata": {
    "colab": {
      "provenance": [],
      "authorship_tag": "ABX9TyMMfKJiuJzB/eEqORMfpOtH",
      "include_colab_link": true
    },
    "kernelspec": {
      "name": "python3",
      "display_name": "Python 3"
    },
    "language_info": {
      "name": "python"
    }
  },
  "cells": [
    {
      "cell_type": "markdown",
      "metadata": {
        "id": "view-in-github",
        "colab_type": "text"
      },
      "source": [
        "<a href=\"https://colab.research.google.com/github/Ayushichadha/multiLayerPerceptron/blob/main/manual_Backprop.ipynb\" target=\"_parent\"><img src=\"https://colab.research.google.com/assets/colab-badge.svg\" alt=\"Open In Colab\"/></a>"
      ]
    },
    {
      "cell_type": "markdown",
      "source": [
        "We take the 2-layer MLP (with BatchNorm) from the 'activations and grads' part and backpropagate through it manually without using PyTorch autograd's loss.backward(): through the cross entropy loss, 2nd linear layer, tanh, batchnorm, 1st linear layer, and the embedding table.\n",
        "\n",
        "This exercise is to get a strong intuitive understanding about how gradients flow backwards through the compute graph and on the level of efficient Tensors, not just individual scalars. This helps build competence and intuition around how neural nets are optimized and sets you up to more confidently innovate on and debug modern neural networks."
      ],
      "metadata": {
        "id": "a2BarHTcSJOK"
      }
    },
    {
      "cell_type": "markdown",
      "source": [
        "This exercise is built and taught by Andrej Karpathy in his 'makemore' series (part of Neural nets lectures)"
      ],
      "metadata": {
        "id": "C3v22TP_SyDI"
      }
    },
    {
      "cell_type": "markdown",
      "source": [
        "Important Link: Blog by Andrej Karpathy on backpropagation -\n",
        "\n",
        "https://karpathy.medium.com/yes-you-should-understand-backprop-e2f06eab496b"
      ],
      "metadata": {
        "id": "N92FwJ9wSioq"
      }
    },
    {
      "cell_type": "code",
      "execution_count": null,
      "metadata": {
        "id": "6dVfIPdrRjzb"
      },
      "outputs": [],
      "source": []
    }
  ]
}